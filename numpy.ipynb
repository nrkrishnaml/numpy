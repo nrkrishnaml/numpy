{
 "cells": [
  {
   "cell_type": "code",
   "execution_count": 3,
   "id": "0f07762b-88a5-42cb-9b8c-67ef56d59e16",
   "metadata": {},
   "outputs": [
    {
     "name": "stdout",
     "output_type": "stream",
     "text": [
      "Shape of array is: (3, 4)\n",
      "Size of array is: 12\n",
      "dimension of array is: 2\n"
     ]
    }
   ],
   "source": [
    "#3. Find the shape, size and dimension of the following array?\n",
    "#arr = [[1, 2, 3, 4],[5, 6, 7, 8],[9, 10, 11, 12]]\n",
    "\n",
    "#Importing python library numpy\n",
    "import numpy as np\n",
    "\n",
    "#Creating an array\n",
    "a =np.array([[1, 2, 3, 4],[5, 6, 7, 8],[9, 10, 11, 12]])\n",
    "\n",
    "#Finding the shape, size and dimension of the array\n",
    "print(\"Shape of array is:\",a.shape)\n",
    "print(\"Size of array is:\",a.size)\n",
    "print(\"dimension of array is:\",a.ndim)\n"
   ]
  },
  {
   "cell_type": "code",
   "execution_count": null,
   "id": "aaef77e0-9a5c-443c-aeb4-d765e0841c74",
   "metadata": {},
   "outputs": [],
   "source": [
    "#1. What is a Python library? Why do we use Python libraries?\n",
    "\n",
    "Python libraries are collections of pre-written code and functions that extend the capabilities of the Python programming language. \n",
    "It contains bundles of code that can be used repeatedly in different programs. \n",
    "It makes Python Programming simpler and convenient for the programmer. \n",
    "As we don’t need to write the same code again and again for different programs.\n",
    "When we link a library with our program and run that program,the linker automatically searches for that library. \n",
    "It extracts the functionalities of that library and interprets the program accordingly."
   ]
  },
  {
   "cell_type": "code",
   "execution_count": null,
   "id": "06179f20-0353-4858-9e90-348a43d3a9f3",
   "metadata": {},
   "outputs": [],
   "source": [
    "#2. What is the difference between Numpy array and  List?\n",
    "\n",
    "Python Lists -->\n",
    "\n",
    "Element Overhead: Lists in Python store additional information about each element, such as its type and reference count. \n",
    "                   This overhead can be significant when dealing with a large number of elements.\n",
    "Datatype        : Lists can hold different data types, but this can decrease memory efficiency and slow numerical operations.\n",
    "Memory Fragmentation: Lists may not store elements in contiguous memory locations, causing memory fragmentation and inefficiency.\n",
    "Performance      : Lists are not optimized for numerical computations and may have slower mathematical operations due \n",
    "                    to Python’s interpretation overhead. They are generally used as general-purpose data structures.\n",
    "Functionality    : Lists can store any data type, but lack specialized NumPy functions for numerical operations.\n",
    "\n",
    "\n",
    "Numpy Arrays -->\n",
    "\n",
    "Homogeneous Data  : NumPy arrays store elements of the same data type, making them more compact and memory-efficient than lists.4\n",
    "Fixed Data Type   : NumPy arrays have a fixed data type, reducing memory overhead by eliminating the need to store type information \n",
    "                    for each element.\n",
    "Contiguous Memory : NumPy arrays store elements in adjacent memory locations, reducing fragmentation and allowing for efficient access.\n",
    "Array Metadata    : NumPy arrays have extra metadata like shape, strides, and data type. However, this overhead is usually smaller than the per-element overhead in lists.\n",
    "Performance       : NumPy arrays are optimized for numerical computations, with efficient element-wise operations and mathematical functions. \n",
    "                    These operations are implemented in C, resulting in faster performance than equivalent operations on lists.\n"
   ]
  },
  {
   "cell_type": "code",
   "execution_count": 6,
   "id": "c943e7cd-c772-48a4-911a-51a11e24b7f7",
   "metadata": {},
   "outputs": [
    {
     "name": "stdout",
     "output_type": "stream",
     "text": [
      "First row in the array is: [1 2 3 4]\n"
     ]
    }
   ],
   "source": [
    "#4. Write python code to access the first row of the following array? \n",
    "#[[1, 2, 3, 4],[5, 6, 7, 8],[9, 10, 11, 12]]\n",
    "\n",
    "#Importing the package from numpy library\n",
    "import numpy as np\n",
    "\n",
    "#creating an numpy array\n",
    "arr =np.array([[1, 2, 3, 4],[5, 6, 7, 8],[9, 10, 11, 12]])\n",
    "\n",
    "#Printing the first row of array\n",
    "print(\"First row in the array is:\",arr[0])\n"
   ]
  },
  {
   "cell_type": "code",
   "execution_count": 5,
   "id": "fe983b24-3c2a-4f3b-8c20-9f0daf79a4ec",
   "metadata": {},
   "outputs": [
    {
     "name": "stdout",
     "output_type": "stream",
     "text": [
      "Element at the third row and fourth column is: 12\n"
     ]
    }
   ],
   "source": [
    "#5. How do you access the element at the third row and fourth column from the given numpy array?\n",
    "#[[1, 2, 3, 4],[5, 6, 7, 8],[9, 10, 11, 12]]\n",
    "\n",
    "#Importing the package from numpy library\n",
    "import numpy as np\n",
    "\n",
    "#creating an numpy array\n",
    "arr =np.array([[1, 2, 3, 4],[5, 6, 7, 8],[9, 10, 11, 12]])\n",
    "\n",
    "#Printing the element\n",
    "print(\"Element at the third row and fourth column is:\",arr[2,3])"
   ]
  },
  {
   "cell_type": "code",
   "execution_count": 2,
   "id": "eeee2fbe-cf83-497f-a50c-2948e89ea86d",
   "metadata": {},
   "outputs": [
    {
     "name": "stdout",
     "output_type": "stream",
     "text": [
      "[[ 1  2  3  4]\n",
      " [ 5  6  7  8]\n",
      " [ 9 10 11 12]]\n"
     ]
    },
    {
     "data": {
      "text/plain": [
       "array([[ 2,  4],\n",
       "       [ 6,  8],\n",
       "       [10, 12]])"
      ]
     },
     "execution_count": 2,
     "metadata": {},
     "output_type": "execute_result"
    }
   ],
   "source": [
    "#6. Write code to extract all odd-indexed elements from the given numpy array?\n",
    "#[[1, 2, 3, 4],[5, 6, 7, 8],[9, 10, 11, 12]]\n",
    "\n",
    "#Importing the package from numpy library\n",
    "import numpy as np\n",
    "\n",
    "#creating an numpy array\n",
    "arr =np.array([[1, 2, 3, 4],[5, 6, 7, 8],[9, 10, 11, 12]])\n",
    "\n",
    "print(\"Original array isarr)\n",
    "\n",
    "arr[0:3,[1,3]]\n"
   ]
  },
  {
   "cell_type": "code",
   "execution_count": 3,
   "id": "9b4a8585-e98e-4aff-a479-20ee2f28397d",
   "metadata": {},
   "outputs": [
    {
     "name": "stdout",
     "output_type": "stream",
     "text": [
      "Array with values between 0 and 1 is: [[0.33131068 0.95942362 0.02700816]\n",
      " [0.64771248 0.70100515 0.97483287]\n",
      " [0.98690599 0.03039838 0.09244953]]\n"
     ]
    }
   ],
   "source": [
    "#7. How can you generate a random 3x3 matrix with values between 0 and 1?\n",
    "\n",
    "#importing package from python library\n",
    "import numpy as np\n",
    "\n",
    "#creating an array of 3*3 matrix with values between 0 and 1\n",
    "arr = np.random.rand(3,3)\n",
    "\n",
    "print(\"Array with values between 0 and 1 is:\",arr)"
   ]
  },
  {
   "cell_type": "code",
   "execution_count": null,
   "id": "9f301126-ba37-454c-b41a-4844fec0e86d",
   "metadata": {},
   "outputs": [],
   "source": [
    "#8. Describe the ^ifference between np.ran^om.ran^ an^ np.ran^om.ran^n?\n",
    "\n",
    "The difference between rand and randn is that rand returns random numbers sampled from a uniform distribution over the interval [0,1), \n",
    "while randn instead samples from a normal (a.k.a. Gaussian) distribution with a mean of 0 and a variance of 1."
   ]
  },
  {
   "cell_type": "code",
   "execution_count": 6,
   "id": "a4c9a13e-5dd3-4e0b-8b4f-7a7096c00168",
   "metadata": {},
   "outputs": [
    {
     "name": "stdout",
     "output_type": "stream",
     "text": [
      "Array with new dimesion is: [[[ 1  2  3  4]\n",
      "  [ 5  6  7  8]\n",
      "  [ 9 10 11 12]]]\n"
     ]
    }
   ],
   "source": [
    "#9. Write code to increase the dimension of the following array? [[1, 2, 3, 4],[5, 6, 7, 8],[9, 10, 11, 12]]\n",
    "\n",
    "#importing package from python library\n",
    "import numpy as np\n",
    "\n",
    "#creating an numpy array\n",
    "arr = np.array([[1, 2, 3, 4],[5, 6, 7, 8],[9, 10, 11, 12]])\n",
    "\n",
    "#increasing the dimension of the array using expand_dims function\n",
    "arr1 = np.expand_dims(arr , axis  = 0)\n",
    "print(\"Array with new dimesion is:\",arr1)"
   ]
  },
  {
   "cell_type": "code",
   "execution_count": 11,
   "id": "6952efd0-f459-42d2-be3d-18c4fd14e838",
   "metadata": {},
   "outputs": [
    {
     "name": "stdout",
     "output_type": "stream",
     "text": [
      "Transposed array is: [[ 1  5  9]\n",
      " [ 2  6 10]\n",
      " [ 3  7 11]\n",
      " [ 4  8 12]]\n"
     ]
    }
   ],
   "source": [
    "#10. How to transpose the following array in NumPy?[[1, 2, 3, 4],[5, 6, 7, 8],[9, 10, 11, 12]]\n",
    "\n",
    "#importing package from python library\n",
    "import numpy as np\n",
    "\n",
    "#creating an numpy array\n",
    "arr = np.array([[1, 2, 3, 4],[5, 6, 7, 8],[9, 10, 11, 12]])\n",
    "\n",
    "Transpose_arr = arr.T\n",
    "print(\"Transposed array is:\",Transpose_arr)"
   ]
  },
  {
   "cell_type": "code",
   "execution_count": 22,
   "id": "69e210a3-4f29-4eeb-b3c5-550a929dbde5",
   "metadata": {},
   "outputs": [
    {
     "name": "stdout",
     "output_type": "stream",
     "text": [
      "Index wise multiplied matrix is: [[  1   4   9  16]\n",
      " [ 25  36  49  64]\n",
      " [ 81 100 121 144]]\n",
      "matrix after added is: [[ 2  4  6  8]\n",
      " [10 12 14 16]\n",
      " [18 20 22 24]]\n",
      "Matrix after subtracting is : [[0 0 0 0]\n",
      " [0 0 0 0]\n",
      " [0 0 0 0]]\n",
      "Matrix values after division is: [[1. 1. 1. 1.]\n",
      " [1. 1. 1. 1.]\n",
      " [1. 1. 1. 1.]]\n"
     ]
    }
   ],
   "source": [
    "#11. Consider the following matrix and perform operations(multiply index wise and matrix ,addition,substraction,add,divide)\n",
    "#Matrix A2 [[1, 2, 3, 4] [5, 6, 7, 8],[9, 10, 11, 12]]\n",
    "#Matrix B2 [[1, 2, 3, 4] [5, 6, 7, 8],[9, 10, 11, 12]]\n",
    "\n",
    "#importing package from python library\n",
    "import numpy as np\n",
    "\n",
    "##creating an numpy array\n",
    "matrix1 = np.array([[1, 2, 3, 4],[5, 6, 7, 8],[9, 10, 11, 12]])\n",
    "matrix2 = np.array([[1, 2, 3, 4],[5, 6, 7, 8],[9, 10, 11, 12]])\n",
    "\n",
    "#1.Index wise multiplication\n",
    "mul_index_matrix = matrix1 * matrix2\n",
    "print(\"Index wise multiplied matrix is:\", mul_index_matrix)\n",
    "\n",
    "#2.Matrix Multiplication\n",
    "#matix_mul = np.dot(matrix1,matrix2)\n",
    "#print(\"Matrix multied matrix is:\",matrix_mul)\n",
    "#3.Add both the matics\n",
    "add_matrix = matrix1 + matrix2\n",
    "print(\"matrix after added is:\",add_matrix)\n",
    "\n",
    "#4.Subtact matix B from matrix A\n",
    "sub_matrix = matrix1 - matrix2\n",
    "print(\"Matrix after subtracting is :\",sub_matrix)\n",
    "\n",
    "#5.Diide Matix B by A\n",
    "\n",
    "div_matrix = matrix2 / matrix1\n",
    "print(\"Matrix values after division is:\",div_matrix)"
   ]
  },
  {
   "cell_type": "code",
   "execution_count": null,
   "id": "8147e52a-5d2a-449a-b702-77a4082597b6",
   "metadata": {},
   "outputs": [],
   "source": [
    "#12. Which function in Numpy can be used to swap the byte order of an array?\n",
    "\n",
    "The ndarray.byteswap() method swaps the bytes of the array elements. \n",
    "It toggles between low-endian and big-endian data representation by returning a byteswapped array, optionally swapped in-place.\n",
    "byteswap() method does not work on arrays of strings.\n"
   ]
  },
  {
   "cell_type": "code",
   "execution_count": null,
   "id": "5b6c9497-6044-43a3-8510-19cb0f30e7c4",
   "metadata": {},
   "outputs": [],
   "source": [
    "#13. What is the significance of the np.linalg.inv function?\n",
    "\n",
    "numpy.linalg.inv() function to calculate the inverse of a matrix. \n",
    "The inverse of a matrix is such that if it is multiplied by the original matrix, it results in identity matrix."
   ]
  },
  {
   "cell_type": "code",
   "execution_count": null,
   "id": "0fff022f-d936-4439-a54e-a814bc4838a4",
   "metadata": {},
   "outputs": [],
   "source": [
    "#14. What does the np.reshape function do, and how is it used?\n",
    "\n",
    "The numpy.reshape() function shapes an array without changing the data of the array.\n",
    "\n",
    "Syntax: numpy.reshape(array, shape, order = 'C')\n",
    "Parameters : \n",
    "\n",
    "array : [array_like]Input array\n",
    "shape : [int or tuples of int] e.g. if we are arranging an array with 10 elements then shaping\n",
    "        it like numpy.reshape(4, 8) is wrong; we can do numpy.reshape(2, 5) or (5, 2)\n",
    "order  : [C-contiguous, F-contiguous, A-contiguous; optional]         \n",
    "         C-contiguous order in memory(last index varies the fastest)\n",
    "         C order means that operating row-rise on the array will be "
   ]
  },
  {
   "cell_type": "code",
   "execution_count": 2,
   "id": "a608c8f7-e8e2-482f-bd5e-29a3ea006fb5",
   "metadata": {},
   "outputs": [
    {
     "data": {
      "text/plain": [
       "array([[2, 3],\n",
       "       [4, 7],\n",
       "       [8, 9]])"
      ]
     },
     "execution_count": 2,
     "metadata": {},
     "output_type": "execute_result"
    }
   ],
   "source": [
    "#how reshape is used?\n",
    "\n",
    "#importing package from python library\n",
    "import numpy as np\n",
    "\n",
    "##creating an numpy array\n",
    "arr1 = np.array([[2,3,4],[7,8,9]])\n",
    "\n",
    "#using reshape function to convert from (2,3) to (3,2)\n",
    "np.reshape(arr1 , (3,2))\n",
    "\n"
   ]
  },
  {
   "cell_type": "code",
   "execution_count": null,
   "id": "2c710bca-6879-4e52-9612-07d5211a9544",
   "metadata": {},
   "outputs": [],
   "source": [
    "#15. What is broadcasting in Numpy?\n",
    "\n",
    "The term broadcasting describes how NumPy treats arrays with different shapes during arithmetic operations.Subject to certain constraints, \n",
    "the smaller array is “broadcast” across the larger array so that they have compatible shapes. \n",
    "\n",
    "Broadcasting provides a means of vectorizing array operations so that looping occurs in C instead of Python. \n",
    "\n",
    "It does this without making needless copies of data and usually leads to efficient algorithm implementations."
   ]
  }
 ],
 "metadata": {
  "kernelspec": {
   "display_name": "Python 3 (ipykernel)",
   "language": "python",
   "name": "python3"
  },
  "language_info": {
   "codemirror_mode": {
    "name": "ipython",
    "version": 3
   },
   "file_extension": ".py",
   "mimetype": "text/x-python",
   "name": "python",
   "nbconvert_exporter": "python",
   "pygments_lexer": "ipython3",
   "version": "3.10.8"
  }
 },
 "nbformat": 4,
 "nbformat_minor": 5
}
